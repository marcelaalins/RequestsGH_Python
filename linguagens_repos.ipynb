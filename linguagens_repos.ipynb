{
 "cells": [
  {
   "cell_type": "code",
   "execution_count": 2,
   "metadata": {},
   "outputs": [],
   "source": [
    "import requests"
   ]
  },
  {
   "cell_type": "code",
   "execution_count": 3,
   "metadata": {},
   "outputs": [],
   "source": [
    "r = requests.get('https://api.github.com/events')"
   ]
  },
  {
   "cell_type": "code",
   "execution_count": 4,
   "metadata": {},
   "outputs": [
    {
     "data": {
      "text/plain": [
       "<Response [200]>"
      ]
     },
     "execution_count": 4,
     "metadata": {},
     "output_type": "execute_result"
    }
   ],
   "source": [
    "r\n",
    "#GET: é a requisição mais utilizada na web e tem como objetivo buscar informações de um servidor. Por exemplo, ao acessar um site de notícias, é realizada uma requisição GET para buscar as informações da página que será exibida.\n",
    "\n",
    "#POST: é utilizada para enviar informações para um servidor e, geralmente, é usada para realizar ações como criar um novo usuário ou enviar dados de um formulário. Ao enviar um e-mail através de um formulário em um site, é realizada uma requisição POST para enviar as informações do formulário ao servidor.\n",
    "\n",
    "#PUT: é usada para substituir completamente um recurso no servidor. Ao enviar uma requisição PUT, você envia todas as informações necessárias para atualizar o recurso por completo, substituindo todos os campos e informações existentes. Por exemplo, ao alterar todas as informações de seu perfil em alguma rede social (nome, foto, interesses, etc), é realizada uma requisição PUT.\n",
    "\n",
    "#DELETE: como o nome sugere, é utilizada para excluir informações em um servidor. Por exemplo, ao excluir um post em uma rede social, é realizada uma requisição DELETE para remover as informações do servidor.\n",
    "\n",
    "#PATCH: é utilizada para fazer alterações parciais em um recurso existente no servidor. Ao enviar uma requisição PATCH, você envia apenas as informações específicas que deseja alterar, mantendo as demais informações do recurso intactas. Por exemplo, ao alterar apenas o status de uma tarefa em um sistema de gerenciamento, de \"Em andamento\" para \"Concluída\", é realizada uma requisição PATCH."
   ]
  },
  {
   "cell_type": "markdown",
   "metadata": {},
   "source": [
    "Aqui estão alguns dos principais códigos de status HTTP:\n",
    "\n",
    "2xx (Sucesso): Esses códigos indicam que a solicitação foi concluída com sucesso. Por exemplo, o código 200 indica que a solicitação foi bem-sucedida e que o servidor está retornando os dados solicitados.\n",
    "\n",
    "3xx (Redirecionamento): Esses códigos indicam que o cliente deve realizar mais ações para completar a solicitação. Por exemplo, o código 301 indica que o servidor redirecionou a solicitação para uma nova URL permanente.\n",
    "\n",
    "4xx (Erro do cliente): Esses códigos indicam que a solicitação não pôde ser concluída devido a um erro no lado do cliente. Por exemplo, o código 404 indica que a página solicitada não foi encontrada.\n",
    "\n",
    "5xx (Erro do servidor): Esses códigos indicam que a solicitação não pôde ser concluída devido a um erro no lado do servidor. Por exemplo, o código 500 indica que ocorreu um erro interno no servidor."
   ]
  },
  {
   "cell_type": "code",
   "execution_count": 5,
   "metadata": {},
   "outputs": [
    {
     "data": {
      "text/plain": [
       "200"
      ]
     },
     "execution_count": 5,
     "metadata": {},
     "output_type": "execute_result"
    }
   ],
   "source": [
    "r.status_code"
   ]
  },
  {
   "cell_type": "code",
   "execution_count": 6,
   "metadata": {},
   "outputs": [
    {
     "data": {
      "text/plain": [
       "'https://api.github.com/events'"
      ]
     },
     "execution_count": 6,
     "metadata": {},
     "output_type": "execute_result"
    }
   ],
   "source": [
    "r.url"
   ]
  },
  {
   "cell_type": "code",
   "execution_count": 8,
   "metadata": {},
   "outputs": [
    {
     "data": {
      "text/plain": [
       "<bound method Response.json of <Response [200]>>"
      ]
     },
     "execution_count": 8,
     "metadata": {},
     "output_type": "execute_result"
    }
   ],
   "source": [
    "r.json\n",
    "\n",
    "#ou pode utilizar r.text"
   ]
  },
  {
   "cell_type": "markdown",
   "metadata": {},
   "source": [
    "caso a ideia seja obter outras informações da API que estou buscando os dados (no caso, é a API pública do GitHub com o endpoint de \"Events\", eu só modifico meu endpoint e mantenho a base (que é https://api.github.com))"
   ]
  },
  {
   "cell_type": "code",
   "execution_count": 11,
   "metadata": {},
   "outputs": [
    {
     "data": {
      "text/plain": [
       "200"
      ]
     },
     "execution_count": 11,
     "metadata": {},
     "output_type": "execute_result"
    }
   ],
   "source": [
    "r = requests.get('https://api.github.com/versions')\n",
    "r.status_code"
   ]
  },
  {
   "cell_type": "code",
   "execution_count": 12,
   "metadata": {},
   "outputs": [
    {
     "data": {
      "text/plain": [
       "['2022-11-28']"
      ]
     },
     "execution_count": 12,
     "metadata": {},
     "output_type": "execute_result"
    }
   ],
   "source": [
    "r.json()"
   ]
  },
  {
   "cell_type": "markdown",
   "metadata": {},
   "source": [
    "minha API do GitHub está na versão específica do curso, mas caso não estivesse pra forçar ele a usar a versão solicitada nas aulas, eu poderia usar esse método: # especificando a versão da API:\n",
    "\n",
    "headers = {'X-GitHub-Api-Version': '2022-11-28'}\n",
    "\n",
    "e depois solicitar o headers ao fazer minha requisição: \n",
    "r = requests.get('https://api.github.com/events', headers=headers)"
   ]
  },
  {
   "cell_type": "code",
   "execution_count": 21,
   "metadata": {},
   "outputs": [
    {
     "data": {
      "text/plain": [
       "200"
      ]
     },
     "execution_count": 21,
     "metadata": {},
     "output_type": "execute_result"
    }
   ],
   "source": [
    "r = requests.get('https://api.github.com/users/marcelaalins')\n",
    "r.status_code"
   ]
  },
  {
   "cell_type": "code",
   "execution_count": 19,
   "metadata": {},
   "outputs": [
    {
     "data": {
      "text/plain": [
       "b'{\"login\":\"marcelaalins\",\"id\":93734336,\"node_id\":\"U_kgDOBZZFwA\",\"avatar_url\":\"https://avatars.githubusercontent.com/u/93734336?v=4\",\"gravatar_id\":\"\",\"url\":\"https://api.github.com/users/marcelaalins\",\"html_url\":\"https://github.com/marcelaalins\",\"followers_url\":\"https://api.github.com/users/marcelaalins/followers\",\"following_url\":\"https://api.github.com/users/marcelaalins/following{/other_user}\",\"gists_url\":\"https://api.github.com/users/marcelaalins/gists{/gist_id}\",\"starred_url\":\"https://api.github.com/users/marcelaalins/starred{/owner}{/repo}\",\"subscriptions_url\":\"https://api.github.com/users/marcelaalins/subscriptions\",\"organizations_url\":\"https://api.github.com/users/marcelaalins/orgs\",\"repos_url\":\"https://api.github.com/users/marcelaalins/repos\",\"events_url\":\"https://api.github.com/users/marcelaalins/events{/privacy}\",\"received_events_url\":\"https://api.github.com/users/marcelaalins/received_events\",\"type\":\"User\",\"site_admin\":false,\"name\":\"Marcela Lins\",\"company\":null,\"blog\":\"\",\"location\":null,\"email\":null,\"hireable\":null,\"bio\":null,\"twitter_username\":null,\"public_repos\":2,\"public_gists\":0,\"followers\":2,\"following\":2,\"created_at\":\"2021-11-04T18:38:00Z\",\"updated_at\":\"2023-10-20T20:42:44Z\"}'"
      ]
     },
     "execution_count": 19,
     "metadata": {},
     "output_type": "execute_result"
    }
   ],
   "source": [
    "r.content\n"
   ]
  },
  {
   "cell_type": "code",
   "execution_count": 20,
   "metadata": {},
   "outputs": [
    {
     "data": {
      "text/plain": [
       "'https://api.github.com/users/marcelaalins'"
      ]
     },
     "execution_count": 20,
     "metadata": {},
     "output_type": "execute_result"
    }
   ],
   "source": [
    "r.url"
   ]
  },
  {
   "cell_type": "code",
   "execution_count": 22,
   "metadata": {},
   "outputs": [
    {
     "data": {
      "text/plain": [
       "{'login': 'marcelaalins',\n",
       " 'id': 93734336,\n",
       " 'node_id': 'U_kgDOBZZFwA',\n",
       " 'avatar_url': 'https://avatars.githubusercontent.com/u/93734336?v=4',\n",
       " 'gravatar_id': '',\n",
       " 'url': 'https://api.github.com/users/marcelaalins',\n",
       " 'html_url': 'https://github.com/marcelaalins',\n",
       " 'followers_url': 'https://api.github.com/users/marcelaalins/followers',\n",
       " 'following_url': 'https://api.github.com/users/marcelaalins/following{/other_user}',\n",
       " 'gists_url': 'https://api.github.com/users/marcelaalins/gists{/gist_id}',\n",
       " 'starred_url': 'https://api.github.com/users/marcelaalins/starred{/owner}{/repo}',\n",
       " 'subscriptions_url': 'https://api.github.com/users/marcelaalins/subscriptions',\n",
       " 'organizations_url': 'https://api.github.com/users/marcelaalins/orgs',\n",
       " 'repos_url': 'https://api.github.com/users/marcelaalins/repos',\n",
       " 'events_url': 'https://api.github.com/users/marcelaalins/events{/privacy}',\n",
       " 'received_events_url': 'https://api.github.com/users/marcelaalins/received_events',\n",
       " 'type': 'User',\n",
       " 'site_admin': False,\n",
       " 'name': 'Marcela Lins',\n",
       " 'company': None,\n",
       " 'blog': '',\n",
       " 'location': None,\n",
       " 'email': None,\n",
       " 'hireable': None,\n",
       " 'bio': None,\n",
       " 'twitter_username': None,\n",
       " 'public_repos': 2,\n",
       " 'public_gists': 0,\n",
       " 'followers': 2,\n",
       " 'following': 2,\n",
       " 'created_at': '2021-11-04T18:38:00Z',\n",
       " 'updated_at': '2023-10-20T20:42:44Z'}"
      ]
     },
     "execution_count": 22,
     "metadata": {},
     "output_type": "execute_result"
    }
   ],
   "source": [
    "r.json()"
   ]
  },
  {
   "cell_type": "code",
   "execution_count": 25,
   "metadata": {},
   "outputs": [
    {
     "data": {
      "text/plain": [
       "'Marcela Lins'"
      ]
     },
     "execution_count": 25,
     "metadata": {},
     "output_type": "execute_result"
    }
   ],
   "source": [
    "r.json()['name']"
   ]
  },
  {
   "cell_type": "code",
   "execution_count": 26,
   "metadata": {},
   "outputs": [
    {
     "data": {
      "text/plain": [
       "'marcelaalins'"
      ]
     },
     "execution_count": 26,
     "metadata": {},
     "output_type": "execute_result"
    }
   ],
   "source": [
    "r.json()['login']"
   ]
  },
  {
   "cell_type": "code",
   "execution_count": 28,
   "metadata": {},
   "outputs": [
    {
     "data": {
      "text/plain": [
       "0"
      ]
     },
     "execution_count": 28,
     "metadata": {},
     "output_type": "execute_result"
    }
   ],
   "source": [
    "r.json()['public_gists']"
   ]
  },
  {
   "cell_type": "code",
   "execution_count": 29,
   "metadata": {},
   "outputs": [
    {
     "data": {
      "text/plain": [
       "'2021-11-04T18:38:00Z'"
      ]
     },
     "execution_count": 29,
     "metadata": {},
     "output_type": "execute_result"
    }
   ],
   "source": [
    "r.json()['created_at']"
   ]
  },
  {
   "cell_type": "markdown",
   "metadata": {},
   "source": [
    "Criação do pipeline:\n",
    "Obs - Um pipeline é uma sequência de etapas ou processos que são executados de forma contínua, podendo ser automatizado para alcançar um objetivo específico. No pipeline ETL, seguimos a sequência de Extração (Extract), Transformação(Transform) e Carregamento(Load)"
   ]
  }
 ],
 "metadata": {
  "kernelspec": {
   "display_name": "venv",
   "language": "python",
   "name": "python3"
  },
  "language_info": {
   "codemirror_mode": {
    "name": "ipython",
    "version": 3
   },
   "file_extension": ".py",
   "mimetype": "text/x-python",
   "name": "python",
   "nbconvert_exporter": "python",
   "pygments_lexer": "ipython3",
   "version": "3.10.12"
  }
 },
 "nbformat": 4,
 "nbformat_minor": 2
}
